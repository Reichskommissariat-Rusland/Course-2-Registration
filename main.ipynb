{
 "cells": [
  {
   "cell_type": "code",
   "execution_count": 2,
   "metadata": {},
   "outputs": [
    {
     "name": "stdout",
     "output_type": "stream",
     "text": [
      "Initialize the course manager from the json data file.\n"
     ]
    }
   ],
   "source": [
    "#!/usr/bin/env python3\n",
    "# -*- coding: utf-8 -*-\n",
    "\n",
    "import pprint\n",
    "\n",
    "from basic_class import *\n",
    "from assistant_func import *\n",
    "\n",
    "SeniorMath = Course(\"SM-001\", \"Senior Math\", \"Math\", 2, {\n",
    "    \"Lesson-1\": {\"Weekday\": \"Monday\", \"StartTime\": \"8:30\", \"EndTime\": \"10:10\"}}, \"Fourth floor\")\n",
    "\n",
    "ComputerScience = Course(\"CS-001\", \"Computer Science\", \"Information Science\", 3, {\n",
    "    \"Lesson-1\": {\"Weekday\": \"Tuesday\", \"StartTime\": \"10:30\", \"EndTime\": \"12:10\"}, \"Lesson-2\": {'Weekday': 'Thursday', 'StartTime': '14:30', 'EndTime': '16:10'}}, \"Second floor\")\n",
    "\n",
    "manager = CourseManager()\n",
    "\n",
    "bob = Student('320180922310', 'Smith', 'Bob', 'Male', datetime.datetime(2000, 4, 12), 'Information Science')\n"
   ]
  },
  {
   "cell_type": "code",
   "execution_count": 15,
   "metadata": {},
   "outputs": [],
   "source": [
    "SeniorMath.export_object()"
   ]
  },
  {
   "cell_type": "code",
   "execution_count": 16,
   "metadata": {},
   "outputs": [],
   "source": [
    "ComputerScience.export_object()"
   ]
  },
  {
   "cell_type": "code",
   "execution_count": 3,
   "metadata": {},
   "outputs": [
    {
     "name": "stdout",
     "output_type": "stream",
     "text": [
      "The course is added into the courses dict.\n",
      "The course is added into the courses dict.\n"
     ]
    }
   ],
   "source": [
    "manager.add_courses(SeniorMath)\n",
    "manager.add_courses(ComputerScience)"
   ]
  },
  {
   "cell_type": "code",
   "execution_count": 4,
   "metadata": {},
   "outputs": [
    {
     "name": "stdout",
     "output_type": "stream",
     "text": [
      "The schedule for student 320180922310 named Bob Smith:\n",
      "##########################################################################\n",
      "Course Information\n",
      "Course name: Senior Math\n",
      "Course Time:\n",
      "Monday from 8:30 to 10:10\n",
      "Course Location: Fourth floor\n",
      "##########################################################################\n"
     ]
    }
   ],
   "source": [
    "bob.modify_course(manager, 1)"
   ]
  },
  {
   "cell_type": "code",
   "execution_count": 9,
   "metadata": {},
   "outputs": [
    {
     "data": {
      "text/plain": [
       "['CS-001.json', 'SM-001.json']"
      ]
     },
     "execution_count": 9,
     "metadata": {},
     "output_type": "execute_result"
    }
   ],
   "source": [
    "os.listdir('./Courses')"
   ]
  },
  {
   "cell_type": "code",
   "execution_count": 19,
   "metadata": {},
   "outputs": [
    {
     "name": "stdout",
     "output_type": "stream",
     "text": [
      "The selected courses for student 320180922310 named Bob Smith:\n",
      "##########################################################################\n",
      "The course SM-001 is named Senior Math.\n",
      "The department is Math.\n",
      "The location is Fourth floor.\n",
      "The time is from 8:30 to 10:10 on Monday\n",
      "##########################################################################\n"
     ]
    }
   ],
   "source": [
    "bob.get_selected_courses(manager)"
   ]
  },
  {
   "cell_type": "code",
   "execution_count": 5,
   "metadata": {},
   "outputs": [],
   "source": [
    "manager.set_course_grade('SM-001', '320180922310', 92.5)\n"
   ]
  },
  {
   "cell_type": "code",
   "execution_count": 21,
   "metadata": {},
   "outputs": [
    {
     "name": "stdout",
     "output_type": "stream",
     "text": [
      "The student named Bob Smith is in course SM-001, with grade 92.5.\n",
      "The average score is 92.5.\n"
     ]
    }
   ],
   "source": [
    "manager.get_registrant_information(\"320180922310\")\n"
   ]
  },
  {
   "cell_type": "code",
   "execution_count": 22,
   "metadata": {},
   "outputs": [
    {
     "name": "stdout",
     "output_type": "stream",
     "text": [
      "The GPA score is 92.5.\n"
     ]
    }
   ],
   "source": [
    "bob.get_gpa(manager)"
   ]
  },
  {
   "cell_type": "code",
   "execution_count": 8,
   "metadata": {},
   "outputs": [
    {
     "name": "stdout",
     "output_type": "stream",
     "text": [
      "The grades for the selected courses:\n",
      "The course with name Senior Math and 2 credit(s) has grade 92.5.\n"
     ]
    }
   ],
   "source": [
    "bob.get_grade_credits_for_courses(manager)"
   ]
  },
  {
   "cell_type": "code",
   "execution_count": 23,
   "metadata": {},
   "outputs": [],
   "source": [
    "bob.save_selected_courses(manager)"
   ]
  },
  {
   "cell_type": "code",
   "execution_count": 6,
   "metadata": {},
   "outputs": [
    {
     "name": "stdout",
     "output_type": "stream",
     "text": [
      "The schedule for student 320180922310 named Bob Smith:\n",
      "##########################################################################\n",
      "Course Information\n",
      "Course name: Senior Math\n",
      "Course Time:\n",
      "Monday from 8:30 to 10:10\n",
      "Course Location: Fourth floor\n",
      "##########################################################################\n",
      "##########################################################################\n",
      "Course Information\n",
      "Course name: Computer Science\n",
      "Course Time:\n",
      "Tuesday from 10:30 to 12:10\n",
      "Thursday from 14:30 to 16:10\n",
      "Course Location: Second floor\n",
      "##########################################################################\n"
     ]
    }
   ],
   "source": [
    "bob.modify_course(manager, 1)\n"
   ]
  },
  {
   "cell_type": "code",
   "execution_count": 7,
   "metadata": {},
   "outputs": [],
   "source": [
    "manager.set_course_grade('CS-001', '320180922310', 100)"
   ]
  },
  {
   "cell_type": "code",
   "execution_count": 26,
   "metadata": {},
   "outputs": [],
   "source": [
    "manager.save_courses_file()"
   ]
  },
  {
   "cell_type": "code",
   "execution_count": 13,
   "metadata": {},
   "outputs": [
    {
     "name": "stdout",
     "output_type": "stream",
     "text": [
      "The GPA score is 97.0.\n"
     ]
    }
   ],
   "source": [
    "bob.get_gpa(manager)"
   ]
  },
  {
   "cell_type": "code",
   "execution_count": 14,
   "metadata": {},
   "outputs": [
    {
     "name": "stdout",
     "output_type": "stream",
     "text": [
      "The selected courses for student 320180922310 named Bob Smith:\n",
      "##########################################################################\n",
      "The course SM-001 is named Senior Math.\n",
      "The department is Math.\n",
      "The location is Fourth floor.\n",
      "The time is from 8:30 to 10:10 on Monday\n",
      "##########################################################################\n",
      "##########################################################################\n",
      "The course CS-001 is named Computer Science.\n",
      "The department is Computer Science.\n",
      "The location is Third floor.\n",
      "The time is from 10:30 to 12:10 on Wednesday\n",
      "The time is from 14:30 to 16:10 on Thursday\n",
      "##########################################################################\n"
     ]
    }
   ],
   "source": [
    "bob.get_selected_courses(manager)"
   ]
  },
  {
   "cell_type": "code",
   "execution_count": 15,
   "metadata": {},
   "outputs": [
    {
     "name": "stdout",
     "output_type": "stream",
     "text": [
      "The grades for the selected courses:\n",
      "The course with name Senior Math and 2 credit(s) has grade 92.5.\n",
      "The course with name Computer Science and 3 credit(s) has grade 100.\n"
     ]
    }
   ],
   "source": [
    "bob.get_grade_credits_for_courses(manager)"
   ]
  },
  {
   "cell_type": "code",
   "execution_count": 27,
   "metadata": {},
   "outputs": [],
   "source": [
    "bob.save_selected_courses(manager)"
   ]
  },
  {
   "cell_type": "code",
   "execution_count": 17,
   "metadata": {},
   "outputs": [
    {
     "name": "stdout",
     "output_type": "stream",
     "text": [
      "The course is not available!\n",
      "The schedule for student 320180922310 named Bob Smith:\n",
      "##########################################################################\n",
      "Course Information\n",
      "Course name: Senior Math\n",
      "Course Time:\n",
      "Monday from 8:30 to 10:10\n",
      "Course Location: Fourth floor\n",
      "##########################################################################\n",
      "##########################################################################\n",
      "Course Information\n",
      "Course name: Computer Science\n",
      "Course Time:\n",
      "Wednesday from 10:30 to 12:10\n",
      "Thursday from 14:30 to 16:10\n",
      "Course Location: Third floor\n",
      "##########################################################################\n"
     ]
    }
   ],
   "source": [
    "bob.modify_course(manager, 2)"
   ]
  },
  {
   "cell_type": "code",
   "execution_count": 8,
   "metadata": {},
   "outputs": [
    {
     "name": "stdout",
     "output_type": "stream",
     "text": [
      "The GPA score is 97.0 with total credits 5.\n"
     ]
    }
   ],
   "source": [
    "bob.get_gpa(manager)"
   ]
  },
  {
   "cell_type": "code",
   "execution_count": 19,
   "metadata": {},
   "outputs": [
    {
     "name": "stdout",
     "output_type": "stream",
     "text": [
      "The grades for the selected courses:\n",
      "The course with name Senior Math and 2 credit(s) has grade 92.5.\n",
      "The course with name Computer Science and 3 credit(s) has grade 100.\n"
     ]
    }
   ],
   "source": [
    "bob.get_grade_credits_for_courses(manager)"
   ]
  },
  {
   "cell_type": "code",
   "execution_count": 20,
   "metadata": {},
   "outputs": [
    {
     "name": "stdout",
     "output_type": "stream",
     "text": [
      "The selected courses for student 320180922310 named Bob Smith:\n",
      "##########################################################################\n",
      "The course SM-001 is named Senior Math.\n",
      "The department is Math.\n",
      "The location is Fourth floor.\n",
      "The time is from 8:30 to 10:10 on Monday\n",
      "##########################################################################\n",
      "##########################################################################\n",
      "The course CS-001 is named Computer Science.\n",
      "The department is Computer Science.\n",
      "The location is Third floor.\n",
      "The time is from 10:30 to 12:10 on Wednesday\n",
      "The time is from 14:30 to 16:10 on Thursday\n",
      "##########################################################################\n"
     ]
    }
   ],
   "source": [
    "bob.get_selected_courses(manager)"
   ]
  },
  {
   "cell_type": "code",
   "execution_count": 21,
   "metadata": {},
   "outputs": [
    {
     "name": "stdout",
     "output_type": "stream",
     "text": [
      "The student named Bob Smith is in course SM-001, with grade 92.5.\n",
      "The student named Bob Smith is in course CS-001, with grade 100.\n",
      "The average score is 96.25.\n"
     ]
    }
   ],
   "source": [
    "manager.get_registrant_information(\"320180922310\")"
   ]
  },
  {
   "cell_type": "code",
   "execution_count": 22,
   "metadata": {},
   "outputs": [],
   "source": [
    "manager.remove_courses('SM-001')"
   ]
  },
  {
   "cell_type": "code",
   "execution_count": 26,
   "metadata": {},
   "outputs": [],
   "source": [
    "bob.save_selected_courses(manager)"
   ]
  },
  {
   "cell_type": "code",
   "execution_count": 24,
   "metadata": {},
   "outputs": [],
   "source": [
    "timeStr = datetime.datetime.now().strftime(\"%Y-%m-%d-%H-%M-%S\")"
   ]
  },
  {
   "cell_type": "code",
   "execution_count": 14,
   "metadata": {},
   "outputs": [],
   "source": [
    "bob.export_object()"
   ]
  },
  {
   "cell_type": "code",
   "execution_count": 8,
   "metadata": {},
   "outputs": [
    {
     "data": {
      "text/plain": [
       "\"123'.,\""
      ]
     },
     "execution_count": 8,
     "metadata": {},
     "output_type": "execute_result"
    }
   ],
   "source": [
    "timeStr = input(\"Time\")\n",
    "timeHour = timeStr.split(':')[0]\n",
    "timeHour"
   ]
  },
  {
   "cell_type": "code",
   "execution_count": 9,
   "metadata": {},
   "outputs": [
    {
     "data": {
      "text/plain": [
       "'/home/ubuntu/Private-Work/Course-2'"
      ]
     },
     "execution_count": 9,
     "metadata": {},
     "output_type": "execute_result"
    }
   ],
   "source": [
    "os.getcwd()"
   ]
  }
 ],
 "metadata": {
  "interpreter": {
   "hash": "916dbcbb3f70747c44a77c7bcd40155683ae19c65e1c03b4aa3499c5328201f1"
  },
  "kernelspec": {
   "display_name": "Python 3.8.10 64-bit",
   "language": "python",
   "name": "python3"
  },
  "language_info": {
   "codemirror_mode": {
    "name": "ipython",
    "version": 3
   },
   "file_extension": ".py",
   "mimetype": "text/x-python",
   "name": "python",
   "nbconvert_exporter": "python",
   "pygments_lexer": "ipython3",
   "version": "3.8.10"
  },
  "orig_nbformat": 4
 },
 "nbformat": 4,
 "nbformat_minor": 2
}
